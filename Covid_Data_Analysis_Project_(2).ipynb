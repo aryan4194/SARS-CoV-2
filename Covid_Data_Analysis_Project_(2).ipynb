{
  "metadata": {
    "language_info": {
      "codemirror_mode": {
        "name": "python",
        "version": 3
      },
      "file_extension": ".py",
      "mimetype": "text/x-python",
      "name": "python",
      "nbconvert_exporter": "python",
      "pygments_lexer": "ipython3",
      "version": "3.8"
    },
    "kernelspec": {
      "name": "python",
      "display_name": "Python (Pyodide)",
      "language": "python"
    },
    "colab": {
      "provenance": [],
      "include_colab_link": true
    }
  },
  "nbformat_minor": 0,
  "nbformat": 4,
  "cells": [
    {
      "cell_type": "markdown",
      "metadata": {
        "id": "view-in-github",
        "colab_type": "text"
      },
      "source": [
        "<a href=\"https://colab.research.google.com/github/aryan4194/GitLearnRepo/blob/master/Covid_Data_Analysis_Project_(2).ipynb\" target=\"_parent\"><img src=\"https://colab.research.google.com/assets/colab-badge.svg\" alt=\"Open In Colab\"/></a>"
      ]
    },
    {
      "cell_type": "code",
      "source": [
        "import pandas as pd\n",
        "import numpy as np\n",
        "import matplotlib.pyplot as plt\n",
        "import seaborn as sns\n",
        "import plotly.express as px\n",
        "from plotly.subplots import make_subplots\n",
        "from datetime import datetime"
      ],
      "metadata": {
        "trusted": true,
        "id": "WIO-wvbX698a"
      },
      "execution_count": null,
      "outputs": []
    },
    {
      "cell_type": "code",
      "source": [
        "covid_df = pd.read_csv (\"C:/Users/.DeLL/Desktop/ppt/archive (1)/covid_19_india.csv\")"
      ],
      "metadata": {
        "trusted": true,
        "id": "rHtAO257698e"
      },
      "execution_count": null,
      "outputs": []
    },
    {
      "cell_type": "code",
      "source": [
        "covid_df.head(10)"
      ],
      "metadata": {
        "trusted": true,
        "id": "41p8lwYK698f"
      },
      "execution_count": null,
      "outputs": []
    },
    {
      "cell_type": "code",
      "source": [
        "covid_df.info()"
      ],
      "metadata": {
        "trusted": true,
        "id": "TlCBJtLA698f"
      },
      "execution_count": null,
      "outputs": []
    },
    {
      "cell_type": "code",
      "source": [
        "covid_df.describe()"
      ],
      "metadata": {
        "trusted": true,
        "id": "lSHmTrkP698g"
      },
      "execution_count": null,
      "outputs": []
    },
    {
      "cell_type": "code",
      "source": [
        "vaccine_df = pd.read_csv (\"C:/Users/.DeLL/Desktop/ppt/archive (1)/covid_vaccine_statewise.csv\")"
      ],
      "metadata": {
        "trusted": true,
        "id": "K_W492o0698g"
      },
      "execution_count": null,
      "outputs": []
    },
    {
      "cell_type": "code",
      "source": [
        "covid_df.drop([\" Sno \" , \" Time \" , \" ConfirmedIndianNational \" , \"Confirmed ForeignNational\" ] , inplace True , axis=1)\n"
      ],
      "metadata": {
        "trusted": true,
        "id": "lJUX78s_698h"
      },
      "execution_count": null,
      "outputs": []
    },
    {
      "cell_type": "code",
      "source": [
        "covid_df['Date']=pd.to_datetime(covid_df['Date'],format ='%Y-%m-%d')\n"
      ],
      "metadata": {
        "trusted": true,
        "id": "IFFUh1wG698i"
      },
      "execution_count": null,
      "outputs": []
    },
    {
      "cell_type": "code",
      "source": [
        "#Active Cases\n",
        "covid_df['Active_Cases']=covid_df['Confirmed']-(covid_df['Cured']+covid_df['Deaths'])\n",
        "covid_df.tail()"
      ],
      "metadata": {
        "trusted": true,
        "id": "9XjMY_N3698i"
      },
      "execution_count": null,
      "outputs": []
    },
    {
      "cell_type": "code",
      "source": [
        "statewise = pd.pivot_table ( covid_df , values = [ \" Confirmed \" , \" Deaths \" , \" Cured \" ] ,\n",
        "                                                             aggfunc = max ) index = \" State / UnionTerritory \" ,"
      ],
      "metadata": {
        "trusted": true,
        "id": "LS8dZdgn698j"
      },
      "execution_count": null,
      "outputs": []
    },
    {
      "cell_type": "code",
      "source": [
        "statewise = pd.pivot_table ( covid_df , values = [ \" Confirmed \" , \" Deaths \" , \" Cured \" ] ,\n",
        "                           index = \" State / Union Territory \" , aggfunc = max )"
      ],
      "metadata": {
        "trusted": true,
        "id": "Bu5qEdUZ698k"
      },
      "execution_count": null,
      "outputs": []
    },
    {
      "cell_type": "code",
      "source": [
        "statewise [ \" Recovery Rate \" ]= statewise [ \" Cured \" ] * 100 / statewise [ \" Confirmed \" ]"
      ],
      "metadata": {
        "trusted": true,
        "id": "neMUD_V5698l"
      },
      "execution_count": null,
      "outputs": []
    },
    {
      "cell_type": "code",
      "source": [
        "statewise [ \" Mortality Rate \" ]= statewise [ \" Deaths \" ] * 100 / statewise [ \" Confirmed \" ]"
      ],
      "metadata": {
        "trusted": true,
        "id": "EAT8-QLL698l"
      },
      "execution_count": null,
      "outputs": []
    },
    {
      "cell_type": "code",
      "source": [
        "statewise = statewise.sort_values ( by = \" Confirmed \" , ascending = False )"
      ],
      "metadata": {
        "trusted": true,
        "id": "wFkKjdgu698l"
      },
      "execution_count": null,
      "outputs": []
    },
    {
      "cell_type": "code",
      "source": [
        "statewise.style.background_gradient ( cmap = \" cubehelix \" )"
      ],
      "metadata": {
        "trusted": true,
        "id": "Yz5v1Uqj698m"
      },
      "execution_count": null,
      "outputs": []
    },
    {
      "cell_type": "code",
      "source": [
        "top_10_active_cases = covid_df.groupby ( by =' State / UnionTerritory ' ) . max ( ) [ [ ' Active_Cases ' , ' Date ' ] ] .sort_values ( by = [ ' Active_Cases ' ] , ascending = False ) .reset_index ( )\n",
        "                                    ' State / UnionTerritory ' ) . max ( ) [ [ ' Active_Cases ' , ' Date ' ] ] ."
      ],
      "metadata": {
        "trusted": true,
        "id": "TqgbumGT698m"
      },
      "execution_count": null,
      "outputs": []
    },
    {
      "cell_type": "code",
      "source": [
        "fig = plt.figure ( figsize = ( 16,9 ) )"
      ],
      "metadata": {
        "trusted": true,
        "id": "Hc5WJU_r698m"
      },
      "execution_count": null,
      "outputs": []
    },
    {
      "cell_type": "code",
      "source": [
        "plt.title ( \" Top 10 states with most active cases in India \" , size = 25 )"
      ],
      "metadata": {
        "trusted": true,
        "id": "CA-GDz9r698m"
      },
      "execution_count": null,
      "outputs": []
    },
    {
      "cell_type": "code",
      "source": [
        "ax = sns.barplot ( data = top_10_active_states.iloc [ : 10 ] , y = \" Active_Cases \" ,x = \" States / Union Territory \" , linewidth 2 , edgecolor ' red ' )\n"
      ],
      "metadata": {
        "trusted": true,
        "id": "3wCyVZWq698n"
      },
      "execution_count": null,
      "outputs": []
    },
    {
      "cell_type": "code",
      "source": [
        "plt.xlabel ( \" States \" )\n",
        "plt.ylabel ( \" Total Active Cases \" )\n",
        "plt.show ( )"
      ],
      "metadata": {
        "trusted": true,
        "id": "One3anZe698n"
      },
      "execution_count": null,
      "outputs": []
    },
    {
      "cell_type": "code",
      "source": [
        "# Top 10 active cases states\n",
        "top_10_active_cases = covid_df.groupby ( by = ' State / Union Territory ' ) . max ( ) [ [ ' Active_Cases ' , ' Date ' ])"
      ],
      "metadata": {
        "trusted": true,
        "id": "E5iFGabC698n"
      },
      "execution_count": null,
      "outputs": []
    },
    {
      "cell_type": "code",
      "source": [
        "fig = plt.figure ( figsize = ( 16,9 ) )"
      ],
      "metadata": {
        "trusted": true,
        "id": "XmCrIbYg698n"
      },
      "execution_count": null,
      "outputs": []
    },
    {
      "cell_type": "code",
      "source": [
        "plt.title ( \" Top 10 states with most active cases in India \" , size = 25 )"
      ],
      "metadata": {
        "trusted": true,
        "id": "ap0QS-ek698o"
      },
      "execution_count": null,
      "outputs": []
    },
    {
      "cell_type": "code",
      "source": [
        "ax = sns.barplot ( data = top_10_active_cases.iloc [ : 10 ] , y = \" Active_Cases \" , x = \" State/UnionTerritories)"
      ],
      "metadata": {
        "trusted": true,
        "id": "Zg5a2grQ698o"
      },
      "execution_count": null,
      "outputs": []
    },
    {
      "cell_type": "code",
      "source": [
        "plt.xlabel ( \" States \" )\n",
        "                Active Cases \" ) plt.ylabel ( \" Total\n"
      ],
      "metadata": {
        "trusted": true,
        "id": "2vn45SGH698o"
      },
      "execution_count": null,
      "outputs": []
    },
    {
      "cell_type": "code",
      "source": [
        "plt.show ( )"
      ],
      "metadata": {
        "trusted": true,
        "id": "7Gr2jeki698o"
      },
      "execution_count": null,
      "outputs": []
    },
    {
      "cell_type": "code",
      "source": [
        "# Top states with highest deaths\n",
        "top_10_deaths = covid_df.groupby ( by = ' State / Union Territory ' ) . max ( ) [ [ ' Deaths ' , ' Date ' ] ] \n",
        "             "
      ],
      "metadata": {
        "trusted": true,
        "id": "Wt4YSEKu698o"
      },
      "execution_count": null,
      "outputs": []
    },
    {
      "cell_type": "code",
      "source": [
        "fig = plt.figure ( figsize = ( 18,5 ) )"
      ],
      "metadata": {
        "trusted": true,
        "id": "AQa8A2-L698o"
      },
      "execution_count": null,
      "outputs": []
    },
    {
      "cell_type": "code",
      "source": [
        "plt.title ( \" Top 10 states with most Deaths \" , size = 25 )"
      ],
      "metadata": {
        "trusted": true,
        "id": "CV7wnrgx698p"
      },
      "execution_count": null,
      "outputs": []
    },
    {
      "cell_type": "code",
      "source": [
        "ax = sns.barplot ( data = top_10_deaths.iloc [ : 12 ] , y = \" Deaths \" , x = \" State / Union Territory \" , linewidth)"
      ],
      "metadata": {
        "trusted": true,
        "id": "AiDOZ84W698p"
      },
      "execution_count": null,
      "outputs": []
    },
    {
      "cell_type": "code",
      "source": [
        "plt.xlabel ( \" States \" )"
      ],
      "metadata": {
        "trusted": true,
        "id": "cXmt69F3698p"
      },
      "execution_count": null,
      "outputs": []
    },
    {
      "cell_type": "code",
      "source": [
        "plt.ylabel ( \" Total Death Cases \" )"
      ],
      "metadata": {
        "trusted": true,
        "id": "EO7o0ISg698p"
      },
      "execution_count": null,
      "outputs": []
    },
    {
      "cell_type": "code",
      "source": [
        "plt.show ( )"
      ],
      "metadata": {
        "trusted": true,
        "id": "4NmVyLqY698p"
      },
      "execution_count": null,
      "outputs": []
    },
    {
      "cell_type": "code",
      "source": [
        "vaccine_df.rename ( columns = { ' Updated On ' : ' Vaccine_Date ' } , inplace = True )"
      ],
      "metadata": {
        "trusted": true,
        "id": "b_7oJohM698p"
      },
      "execution_count": null,
      "outputs": []
    },
    {
      "cell_type": "code",
      "source": [
        "#Drop a column\n",
        "vaccination vaccine_df.drop ( columns = [ ' Sputnik V ( Doses Administered ) ' ] )"
      ],
      "metadata": {
        "trusted": true,
        "id": "9odutf9X698p"
      },
      "execution_count": null,
      "outputs": []
    },
    {
      "cell_type": "code",
      "source": [
        "# Male vs Female vaccination\n",
        "\n",
        "male = vaccination [ \" Male ( Individuals Vaccinated ) \" ] . sum ( )\n",
        "female = vaccination [ \" Female ( Individuals Vaccinated ) \" ] . sum ( )\n",
        "px.pie ( names = [ \" Male \" , \" Female \" ] , values = [ male , female ] , title = \" Male and Female Vaccination \" )"
      ],
      "metadata": {
        "trusted": true,
        "id": "RofmHn52698p"
      },
      "execution_count": null,
      "outputs": []
    },
    {
      "cell_type": "code",
      "source": [
        "# Remove rows where state = India\n",
        "vaccine = vaccine_df [ vaccine_df.Statel = ' India ' ]"
      ],
      "metadata": {
        "trusted": true,
        "id": "5RhlN5YH698q"
      },
      "execution_count": null,
      "outputs": []
    },
    {
      "cell_type": "code",
      "source": [
        "vaccine . rename ( columns = { \" Total Individuals Vaccinated \" : \" Total \" } , inplace = True )\n",
        "vaccine.head ( )"
      ],
      "metadata": {
        "trusted": true,
        "id": "5WUYmfa1698q"
      },
      "execution_count": null,
      "outputs": []
    },
    {
      "cell_type": "code",
      "source": [
        "# Most vaccinated State\n",
        "max_vac = vaccine.groupby ( ' State ' ) [ ' Total ' ] . sum ( ) . to_frame ( ' Total ' )\n",
        "max_vac= max_vac.sort_values ( ' Total ' , ascending = False ) [ : 5 ]"
      ],
      "metadata": {
        "trusted": true,
        "id": "ZpdJHKzl698q"
      },
      "execution_count": null,
      "outputs": []
    },
    {
      "cell_type": "code",
      "source": [
        "fig = plt.figure ( figsize = ( 10,5 ) )\n"
      ],
      "metadata": {
        "trusted": true,
        "id": "DxWF0O8C698q"
      },
      "execution_count": null,
      "outputs": []
    },
    {
      "cell_type": "code",
      "source": [
        "plt.title ( \" Top 5 Vaccinated States in India \" , size = 20 )\n"
      ],
      "metadata": {
        "trusted": true,
        "id": "g2lq6kyX698q"
      },
      "execution_count": null,
      "outputs": []
    },
    {
      "cell_type": "code",
      "source": [
        "X = sns.barplot ( data = max_vac.iloc [ : 10 ] , y = max_vac . Total , x = max_vac.index , linewidth = 2 )\n"
      ],
      "metadata": {
        "trusted": true,
        "id": "SuMZnPpW698q"
      },
      "execution_count": null,
      "outputs": []
    },
    {
      "cell_type": "code",
      "source": [
        "plt.xlabel ( \" States \" )\n"
      ],
      "metadata": {
        "trusted": true,
        "id": "ZKuBh7gS698r"
      },
      "execution_count": null,
      "outputs": []
    },
    {
      "cell_type": "code",
      "source": [
        "plt.ylabel ( \" Vaccination \" )\n"
      ],
      "metadata": {
        "trusted": true,
        "id": "YdFpUb8M698r"
      },
      "execution_count": null,
      "outputs": []
    },
    {
      "cell_type": "code",
      "source": [
        "plt.show ( )"
      ],
      "metadata": {
        "trusted": true,
        "id": "35JaXyGQ698r"
      },
      "execution_count": null,
      "outputs": []
    }
  ]
}